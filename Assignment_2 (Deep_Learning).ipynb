{
  "cells": [
    {
      "cell_type": "code",
      "execution_count": 9,
      "metadata": {
        "id": "svuMl4tPOr4g"
      },
      "outputs": [],
      "source": [
        "import tensorflow as tf\n",
        "import numpy as np\n",
        "from tensorflow import keras\n",
        "from sklearn.model_selection import train_test_split\n",
        "from tensorflow.keras.optimizers import Adam\n",
        "import matplotlib.pyplot as plt\n",
        "from sklearn.metrics import classification_report\n",
        "from sklearn.metrics import confusion_matrix,ConfusionMatrixDisplay"
      ]
    },
    {
      "cell_type": "code",
      "execution_count": 10,
      "metadata": {
        "id": "MlSI4rOORnE7"
      },
      "outputs": [],
      "source": [
        "(x_train,y_train),(x_test,y_test) = keras.datasets.cifar10.load_data()"
      ]
    },
    {
      "cell_type": "code",
      "source": [
        "x_train , x_test = x_train/255 , x_test/255"
      ],
      "metadata": {
        "id": "oAsVyu8nAt43"
      },
      "execution_count": 11,
      "outputs": []
    },
    {
      "cell_type": "code",
      "source": [
        "y_train = keras.utils.to_categorical(y_train,10)\n",
        "y_test = keras.utils.to_categorical(y_test,10)"
      ],
      "metadata": {
        "id": "glfTbi0-A7HB"
      },
      "execution_count": 12,
      "outputs": []
    },
    {
      "cell_type": "code",
      "source": [
        "x_train,x_valid,y_train,y_valid = train_test_split(x_train,y_train,test_size=0.2)"
      ],
      "metadata": {
        "id": "DGgpeaLuA8c9"
      },
      "execution_count": 13,
      "outputs": []
    },
    {
      "cell_type": "code",
      "source": [
        "model = keras.models.Sequential([\n",
        "    keras.layers.Conv2D(128,(3,3),padding=\"same\",activation = 'relu',kernel_regularizer = keras.regularizers.l2(1e-4),input_shape = (32,32,3)),\n",
        "    keras.layers.MaxPooling2D((2,2)),\n",
        "    keras.layers.Dropout(0.35),\n",
        "\n",
        "    keras.layers.Conv2D(256,(3,3),padding=\"same\",kernel_regularizer = keras.regularizers.l2(1e-4),activation = 'relu'),\n",
        "    keras.layers.MaxPooling2D((2,2)),\n",
        "    keras.layers.Dropout(0.35),\n",
        "\n",
        "    keras.layers.Conv2D(512,(3,3),padding=\"same\",kernel_regularizer = keras.regularizers.l2(1e-4),activation='relu'),\n",
        "    keras.layers.Conv2D(512,(3,3),padding=\"same\",kernel_regularizer = keras.regularizers.l2(1e-4),activation='relu'),\n",
        "    keras.layers.Conv2D(512,(3,3),padding=\"same\",kernel_regularizer = keras.regularizers.l2(1e-4),activation='relu'),\n",
        "    keras.layers.MaxPooling2D((2,2)),\n",
        "    keras.layers.Dropout(0.35),\n",
        "\n",
        "    keras.layers.Flatten(),\n",
        "    keras.layers.Dense(512,activation=\"relu\"),\n",
        "    keras.layers.Dropout(0.35),\n",
        "    keras.layers.Dense(256,activation=\"relu\"),\n",
        "    keras.layers.Dropout(0.35),\n",
        "    keras.layers.Dense(128,activation=\"relu\"),\n",
        "    keras.layers.Dropout(0.35),\n",
        "    keras.layers.Dense(64,activation=\"relu\"),\n",
        "    keras.layers.Dropout(0.35), \n",
        "    keras.layers.Dense(10,activation = 'softmax')\n",
        "])"
      ],
      "metadata": {
        "id": "MZF5OdSbBJmP"
      },
      "execution_count": 14,
      "outputs": []
    },
    {
      "cell_type": "code",
      "source": [
        "model.summary()"
      ],
      "metadata": {
        "colab": {
          "base_uri": "https://localhost:8080/"
        },
        "id": "DCrW0fNHFNrN",
        "outputId": "cc0045a4-f3a4-482a-ae85-bd054302fd74"
      },
      "execution_count": 15,
      "outputs": [
        {
          "output_type": "stream",
          "name": "stdout",
          "text": [
            "Model: \"sequential_1\"\n",
            "_________________________________________________________________\n",
            " Layer (type)                Output Shape              Param #   \n",
            "=================================================================\n",
            " conv2d_5 (Conv2D)           (None, 32, 32, 128)       3584      \n",
            "                                                                 \n",
            " max_pooling2d_3 (MaxPooling  (None, 16, 16, 128)      0         \n",
            " 2D)                                                             \n",
            "                                                                 \n",
            " dropout_6 (Dropout)         (None, 16, 16, 128)       0         \n",
            "                                                                 \n",
            " conv2d_6 (Conv2D)           (None, 16, 16, 256)       295168    \n",
            "                                                                 \n",
            " max_pooling2d_4 (MaxPooling  (None, 8, 8, 256)        0         \n",
            " 2D)                                                             \n",
            "                                                                 \n",
            " dropout_7 (Dropout)         (None, 8, 8, 256)         0         \n",
            "                                                                 \n",
            " conv2d_7 (Conv2D)           (None, 8, 8, 512)         1180160   \n",
            "                                                                 \n",
            " conv2d_8 (Conv2D)           (None, 8, 8, 512)         2359808   \n",
            "                                                                 \n",
            " conv2d_9 (Conv2D)           (None, 8, 8, 512)         2359808   \n",
            "                                                                 \n",
            " max_pooling2d_5 (MaxPooling  (None, 4, 4, 512)        0         \n",
            " 2D)                                                             \n",
            "                                                                 \n",
            " dropout_8 (Dropout)         (None, 4, 4, 512)         0         \n",
            "                                                                 \n",
            " flatten_1 (Flatten)         (None, 8192)              0         \n",
            "                                                                 \n",
            " dense_4 (Dense)             (None, 512)               4194816   \n",
            "                                                                 \n",
            " dropout_9 (Dropout)         (None, 512)               0         \n",
            "                                                                 \n",
            " dense_5 (Dense)             (None, 256)               131328    \n",
            "                                                                 \n",
            " dropout_10 (Dropout)        (None, 256)               0         \n",
            "                                                                 \n",
            " dense_6 (Dense)             (None, 128)               32896     \n",
            "                                                                 \n",
            " dropout_11 (Dropout)        (None, 128)               0         \n",
            "                                                                 \n",
            " dense_7 (Dense)             (None, 64)                8256      \n",
            "                                                                 \n",
            " dropout_12 (Dropout)        (None, 64)                0         \n",
            "                                                                 \n",
            " dense_8 (Dense)             (None, 10)                650       \n",
            "                                                                 \n",
            "=================================================================\n",
            "Total params: 10,566,474\n",
            "Trainable params: 10,566,474\n",
            "Non-trainable params: 0\n",
            "_________________________________________________________________\n"
          ]
        }
      ]
    },
    {
      "cell_type": "code",
      "source": [
        "model.compile(optimizer = Adam(lr = 0.00025),loss='categorical_crossentropy',metrics = ['accuracy'])\n",
        "model.fit(x_train,y_train,batch_size=32,epochs = 100,validation_data=(x_valid,y_valid))"
      ],
      "metadata": {
        "colab": {
          "base_uri": "https://localhost:8080/"
        },
        "id": "_tLUMLKcFjI_",
        "outputId": "38c789cd-de98-42f8-d94d-f652396ac7bf"
      },
      "execution_count": 16,
      "outputs": [
        {
          "output_type": "stream",
          "name": "stdout",
          "text": [
            "Epoch 1/100\n",
            "1250/1250 [==============================] - 27s 21ms/step - loss: 2.0717 - accuracy: 0.2274 - val_loss: 1.6353 - val_accuracy: 0.3839\n",
            "Epoch 2/100\n",
            "1250/1250 [==============================] - 26s 21ms/step - loss: 1.6483 - accuracy: 0.3868 - val_loss: 1.4206 - val_accuracy: 0.4836\n",
            "Epoch 3/100\n",
            "1250/1250 [==============================] - 26s 21ms/step - loss: 1.4446 - accuracy: 0.4880 - val_loss: 1.2261 - val_accuracy: 0.5695\n",
            "Epoch 4/100\n",
            "1250/1250 [==============================] - 26s 21ms/step - loss: 1.2997 - accuracy: 0.5573 - val_loss: 1.1493 - val_accuracy: 0.6093\n",
            "Epoch 5/100\n",
            "1250/1250 [==============================] - 26s 21ms/step - loss: 1.1849 - accuracy: 0.6064 - val_loss: 1.0848 - val_accuracy: 0.6292\n",
            "Epoch 6/100\n",
            "1250/1250 [==============================] - 27s 21ms/step - loss: 1.0997 - accuracy: 0.6419 - val_loss: 1.0015 - val_accuracy: 0.6650\n",
            "Epoch 7/100\n",
            "1250/1250 [==============================] - 27s 21ms/step - loss: 1.0328 - accuracy: 0.6710 - val_loss: 0.9681 - val_accuracy: 0.6795\n",
            "Epoch 8/100\n",
            "1250/1250 [==============================] - 26s 21ms/step - loss: 0.9669 - accuracy: 0.6942 - val_loss: 0.8658 - val_accuracy: 0.7177\n",
            "Epoch 9/100\n",
            "1250/1250 [==============================] - 27s 21ms/step - loss: 0.9179 - accuracy: 0.7170 - val_loss: 0.8802 - val_accuracy: 0.7200\n",
            "Epoch 10/100\n",
            "1250/1250 [==============================] - 26s 21ms/step - loss: 0.8727 - accuracy: 0.7329 - val_loss: 0.8110 - val_accuracy: 0.7457\n",
            "Epoch 11/100\n",
            "1250/1250 [==============================] - 26s 21ms/step - loss: 0.8337 - accuracy: 0.7498 - val_loss: 0.8688 - val_accuracy: 0.7316\n",
            "Epoch 12/100\n",
            "1250/1250 [==============================] - 26s 21ms/step - loss: 0.7934 - accuracy: 0.7661 - val_loss: 0.8457 - val_accuracy: 0.7429\n",
            "Epoch 13/100\n",
            "1250/1250 [==============================] - 27s 21ms/step - loss: 0.7729 - accuracy: 0.7748 - val_loss: 0.8067 - val_accuracy: 0.7573\n",
            "Epoch 14/100\n",
            "1250/1250 [==============================] - 26s 21ms/step - loss: 0.7412 - accuracy: 0.7865 - val_loss: 0.9620 - val_accuracy: 0.7261\n",
            "Epoch 15/100\n",
            "1250/1250 [==============================] - 26s 21ms/step - loss: 0.7096 - accuracy: 0.8018 - val_loss: 0.7704 - val_accuracy: 0.7788\n",
            "Epoch 16/100\n",
            "1250/1250 [==============================] - 27s 22ms/step - loss: 0.6887 - accuracy: 0.8083 - val_loss: 0.7961 - val_accuracy: 0.7767\n",
            "Epoch 17/100\n",
            "1250/1250 [==============================] - 26s 21ms/step - loss: 0.6618 - accuracy: 0.8195 - val_loss: 0.7532 - val_accuracy: 0.7899\n",
            "Epoch 18/100\n",
            "1250/1250 [==============================] - 27s 21ms/step - loss: 0.6470 - accuracy: 0.8265 - val_loss: 0.7804 - val_accuracy: 0.7839\n",
            "Epoch 19/100\n",
            "1250/1250 [==============================] - 27s 22ms/step - loss: 0.6273 - accuracy: 0.8324 - val_loss: 0.7739 - val_accuracy: 0.7957\n",
            "Epoch 20/100\n",
            "1250/1250 [==============================] - 26s 21ms/step - loss: 0.5997 - accuracy: 0.8441 - val_loss: 0.7463 - val_accuracy: 0.8024\n",
            "Epoch 21/100\n",
            "1250/1250 [==============================] - 26s 21ms/step - loss: 0.5845 - accuracy: 0.8488 - val_loss: 0.7845 - val_accuracy: 0.7992\n",
            "Epoch 22/100\n",
            "1250/1250 [==============================] - 26s 21ms/step - loss: 0.5641 - accuracy: 0.8578 - val_loss: 0.8070 - val_accuracy: 0.7957\n",
            "Epoch 23/100\n",
            "1250/1250 [==============================] - 26s 21ms/step - loss: 0.5610 - accuracy: 0.8584 - val_loss: 0.7549 - val_accuracy: 0.8035\n",
            "Epoch 24/100\n",
            "1250/1250 [==============================] - 26s 21ms/step - loss: 0.5461 - accuracy: 0.8665 - val_loss: 0.7979 - val_accuracy: 0.7988\n",
            "Epoch 25/100\n",
            "1250/1250 [==============================] - 26s 21ms/step - loss: 0.5416 - accuracy: 0.8684 - val_loss: 0.7678 - val_accuracy: 0.8080\n",
            "Epoch 26/100\n",
            "1250/1250 [==============================] - 26s 21ms/step - loss: 0.5256 - accuracy: 0.8745 - val_loss: 0.7993 - val_accuracy: 0.7962\n",
            "Epoch 27/100\n",
            "1250/1250 [==============================] - 26s 21ms/step - loss: 0.5248 - accuracy: 0.8758 - val_loss: 0.8320 - val_accuracy: 0.7978\n",
            "Epoch 28/100\n",
            "1250/1250 [==============================] - 27s 21ms/step - loss: 0.5080 - accuracy: 0.8853 - val_loss: 0.9349 - val_accuracy: 0.7750\n",
            "Epoch 29/100\n",
            "1250/1250 [==============================] - 27s 21ms/step - loss: 0.5048 - accuracy: 0.8861 - val_loss: 0.8189 - val_accuracy: 0.8058\n",
            "Epoch 30/100\n",
            "1250/1250 [==============================] - 26s 21ms/step - loss: 0.4934 - accuracy: 0.8899 - val_loss: 0.8653 - val_accuracy: 0.7938\n",
            "Epoch 31/100\n",
            "1250/1250 [==============================] - 26s 21ms/step - loss: 0.4758 - accuracy: 0.8956 - val_loss: 0.8962 - val_accuracy: 0.8009\n",
            "Epoch 32/100\n",
            "1250/1250 [==============================] - 26s 21ms/step - loss: 0.4846 - accuracy: 0.8967 - val_loss: 0.8408 - val_accuracy: 0.8085\n",
            "Epoch 33/100\n",
            "1250/1250 [==============================] - 26s 21ms/step - loss: 0.4825 - accuracy: 0.8974 - val_loss: 0.8193 - val_accuracy: 0.8125\n",
            "Epoch 34/100\n",
            "1250/1250 [==============================] - 27s 21ms/step - loss: 0.4725 - accuracy: 0.9021 - val_loss: 0.8721 - val_accuracy: 0.8118\n",
            "Epoch 35/100\n",
            "1250/1250 [==============================] - 26s 21ms/step - loss: 0.4661 - accuracy: 0.9062 - val_loss: 0.8511 - val_accuracy: 0.8119\n",
            "Epoch 36/100\n",
            "1250/1250 [==============================] - 27s 21ms/step - loss: 0.4606 - accuracy: 0.9090 - val_loss: 0.8627 - val_accuracy: 0.8132\n",
            "Epoch 37/100\n",
            "1250/1250 [==============================] - 26s 21ms/step - loss: 0.4495 - accuracy: 0.9121 - val_loss: 0.8864 - val_accuracy: 0.8126\n",
            "Epoch 38/100\n",
            "1250/1250 [==============================] - 26s 21ms/step - loss: 0.4548 - accuracy: 0.9098 - val_loss: 0.8606 - val_accuracy: 0.8137\n",
            "Epoch 39/100\n",
            "1250/1250 [==============================] - 26s 21ms/step - loss: 0.4489 - accuracy: 0.9146 - val_loss: 0.8986 - val_accuracy: 0.8062\n",
            "Epoch 40/100\n",
            "1250/1250 [==============================] - 26s 21ms/step - loss: 0.4536 - accuracy: 0.9136 - val_loss: 0.9034 - val_accuracy: 0.8094\n",
            "Epoch 41/100\n",
            "1250/1250 [==============================] - 26s 21ms/step - loss: 0.4451 - accuracy: 0.9181 - val_loss: 0.8921 - val_accuracy: 0.8088\n",
            "Epoch 42/100\n",
            "1250/1250 [==============================] - 27s 21ms/step - loss: 0.4357 - accuracy: 0.9214 - val_loss: 0.9007 - val_accuracy: 0.8148\n",
            "Epoch 43/100\n",
            "1250/1250 [==============================] - 27s 21ms/step - loss: 0.4416 - accuracy: 0.9202 - val_loss: 0.9376 - val_accuracy: 0.8090\n",
            "Epoch 44/100\n",
            "1250/1250 [==============================] - 27s 21ms/step - loss: 0.4409 - accuracy: 0.9215 - val_loss: 0.9100 - val_accuracy: 0.8188\n",
            "Epoch 45/100\n",
            "1250/1250 [==============================] - 26s 21ms/step - loss: 0.4391 - accuracy: 0.9228 - val_loss: 0.9124 - val_accuracy: 0.8136\n",
            "Epoch 46/100\n",
            "1250/1250 [==============================] - 26s 21ms/step - loss: 0.4343 - accuracy: 0.9251 - val_loss: 0.9274 - val_accuracy: 0.8099\n",
            "Epoch 47/100\n",
            "1250/1250 [==============================] - 27s 21ms/step - loss: 0.4376 - accuracy: 0.9251 - val_loss: 0.9273 - val_accuracy: 0.8100\n",
            "Epoch 48/100\n",
            "1250/1250 [==============================] - 26s 21ms/step - loss: 0.4273 - accuracy: 0.9288 - val_loss: 0.9238 - val_accuracy: 0.8088\n",
            "Epoch 49/100\n",
            "1250/1250 [==============================] - 27s 21ms/step - loss: 0.4297 - accuracy: 0.9301 - val_loss: 0.9888 - val_accuracy: 0.8086\n",
            "Epoch 50/100\n",
            "1250/1250 [==============================] - 27s 21ms/step - loss: 0.4236 - accuracy: 0.9316 - val_loss: 0.9469 - val_accuracy: 0.8151\n",
            "Epoch 51/100\n",
            "1250/1250 [==============================] - 26s 21ms/step - loss: 0.4313 - accuracy: 0.9304 - val_loss: 0.9209 - val_accuracy: 0.8205\n",
            "Epoch 52/100\n",
            "1250/1250 [==============================] - 26s 21ms/step - loss: 0.4181 - accuracy: 0.9347 - val_loss: 0.9370 - val_accuracy: 0.8142\n",
            "Epoch 53/100\n",
            "1250/1250 [==============================] - 26s 21ms/step - loss: 0.4227 - accuracy: 0.9353 - val_loss: 0.9472 - val_accuracy: 0.8096\n",
            "Epoch 54/100\n",
            "1250/1250 [==============================] - 27s 21ms/step - loss: 0.4245 - accuracy: 0.9325 - val_loss: 0.9621 - val_accuracy: 0.8140\n",
            "Epoch 55/100\n",
            "1250/1250 [==============================] - 27s 22ms/step - loss: 0.4218 - accuracy: 0.9360 - val_loss: 0.9370 - val_accuracy: 0.8148\n",
            "Epoch 56/100\n",
            "1250/1250 [==============================] - 27s 21ms/step - loss: 0.4191 - accuracy: 0.9366 - val_loss: 0.9355 - val_accuracy: 0.8173\n",
            "Epoch 57/100\n",
            "1250/1250 [==============================] - 26s 21ms/step - loss: 0.4193 - accuracy: 0.9373 - val_loss: 0.9524 - val_accuracy: 0.8158\n",
            "Epoch 58/100\n",
            "1250/1250 [==============================] - 26s 21ms/step - loss: 0.4128 - accuracy: 0.9403 - val_loss: 0.9391 - val_accuracy: 0.8189\n",
            "Epoch 59/100\n",
            "1250/1250 [==============================] - 27s 21ms/step - loss: 0.4211 - accuracy: 0.9385 - val_loss: 0.9619 - val_accuracy: 0.8200\n",
            "Epoch 60/100\n",
            "1250/1250 [==============================] - 26s 21ms/step - loss: 0.4122 - accuracy: 0.9413 - val_loss: 0.9951 - val_accuracy: 0.8155\n",
            "Epoch 61/100\n",
            "1250/1250 [==============================] - 26s 21ms/step - loss: 0.4063 - accuracy: 0.9429 - val_loss: 0.9902 - val_accuracy: 0.8099\n",
            "Epoch 62/100\n",
            "1250/1250 [==============================] - 26s 21ms/step - loss: 0.4152 - accuracy: 0.9417 - val_loss: 0.9432 - val_accuracy: 0.8229\n",
            "Epoch 63/100\n",
            "1250/1250 [==============================] - 26s 21ms/step - loss: 0.4075 - accuracy: 0.9441 - val_loss: 1.0034 - val_accuracy: 0.8158\n",
            "Epoch 64/100\n",
            "1250/1250 [==============================] - 26s 21ms/step - loss: 0.4166 - accuracy: 0.9430 - val_loss: 0.9912 - val_accuracy: 0.8173\n",
            "Epoch 65/100\n",
            "1250/1250 [==============================] - 26s 21ms/step - loss: 0.4159 - accuracy: 0.9425 - val_loss: 0.9590 - val_accuracy: 0.8247\n",
            "Epoch 66/100\n",
            "1250/1250 [==============================] - 27s 21ms/step - loss: 0.4087 - accuracy: 0.9450 - val_loss: 0.9884 - val_accuracy: 0.8204\n",
            "Epoch 67/100\n",
            "1250/1250 [==============================] - 26s 21ms/step - loss: 0.4108 - accuracy: 0.9466 - val_loss: 1.0139 - val_accuracy: 0.8090\n",
            "Epoch 68/100\n",
            "1250/1250 [==============================] - 26s 21ms/step - loss: 0.4156 - accuracy: 0.9436 - val_loss: 0.9934 - val_accuracy: 0.8201\n",
            "Epoch 69/100\n",
            "1250/1250 [==============================] - 26s 21ms/step - loss: 0.4065 - accuracy: 0.9462 - val_loss: 1.0059 - val_accuracy: 0.8154\n",
            "Epoch 70/100\n",
            "1250/1250 [==============================] - 27s 21ms/step - loss: 0.4200 - accuracy: 0.9435 - val_loss: 0.9924 - val_accuracy: 0.8245\n",
            "Epoch 71/100\n",
            "1250/1250 [==============================] - 26s 21ms/step - loss: 0.4072 - accuracy: 0.9469 - val_loss: 1.0750 - val_accuracy: 0.8127\n",
            "Epoch 72/100\n",
            "1250/1250 [==============================] - 26s 21ms/step - loss: 0.4078 - accuracy: 0.9479 - val_loss: 0.9950 - val_accuracy: 0.8151\n",
            "Epoch 73/100\n",
            "1250/1250 [==============================] - 27s 21ms/step - loss: 0.4087 - accuracy: 0.9472 - val_loss: 1.0059 - val_accuracy: 0.8235\n",
            "Epoch 74/100\n",
            "1250/1250 [==============================] - 27s 21ms/step - loss: 0.4031 - accuracy: 0.9504 - val_loss: 0.9796 - val_accuracy: 0.8170\n",
            "Epoch 75/100\n",
            "1250/1250 [==============================] - 27s 21ms/step - loss: 0.4199 - accuracy: 0.9446 - val_loss: 1.0009 - val_accuracy: 0.8232\n",
            "Epoch 76/100\n",
            "1250/1250 [==============================] - 26s 21ms/step - loss: 0.4042 - accuracy: 0.9505 - val_loss: 1.0310 - val_accuracy: 0.8152\n",
            "Epoch 77/100\n",
            "1250/1250 [==============================] - 27s 22ms/step - loss: 0.4161 - accuracy: 0.9467 - val_loss: 1.0103 - val_accuracy: 0.8182\n",
            "Epoch 78/100\n",
            "1250/1250 [==============================] - 26s 21ms/step - loss: 0.4107 - accuracy: 0.9489 - val_loss: 0.9881 - val_accuracy: 0.8244\n",
            "Epoch 79/100\n",
            "1250/1250 [==============================] - 26s 21ms/step - loss: 0.4017 - accuracy: 0.9512 - val_loss: 0.9968 - val_accuracy: 0.8130\n",
            "Epoch 80/100\n",
            "1250/1250 [==============================] - 26s 21ms/step - loss: 0.4151 - accuracy: 0.9488 - val_loss: 1.0165 - val_accuracy: 0.8193\n",
            "Epoch 81/100\n",
            "1250/1250 [==============================] - 26s 21ms/step - loss: 0.4089 - accuracy: 0.9501 - val_loss: 0.9778 - val_accuracy: 0.8207\n",
            "Epoch 82/100\n",
            "1250/1250 [==============================] - 26s 21ms/step - loss: 0.4026 - accuracy: 0.9519 - val_loss: 1.0577 - val_accuracy: 0.8206\n",
            "Epoch 83/100\n",
            "1250/1250 [==============================] - 26s 21ms/step - loss: 0.4120 - accuracy: 0.9504 - val_loss: 1.0551 - val_accuracy: 0.8166\n",
            "Epoch 84/100\n",
            "1250/1250 [==============================] - 26s 21ms/step - loss: 0.4039 - accuracy: 0.9514 - val_loss: 1.0244 - val_accuracy: 0.8184\n",
            "Epoch 85/100\n",
            "1250/1250 [==============================] - 26s 21ms/step - loss: 0.4033 - accuracy: 0.9532 - val_loss: 1.0252 - val_accuracy: 0.8221\n",
            "Epoch 86/100\n",
            "1250/1250 [==============================] - 26s 21ms/step - loss: 0.4079 - accuracy: 0.9530 - val_loss: 1.0834 - val_accuracy: 0.8161\n",
            "Epoch 87/100\n",
            "1250/1250 [==============================] - 26s 21ms/step - loss: 0.4159 - accuracy: 0.9503 - val_loss: 0.9819 - val_accuracy: 0.8197\n",
            "Epoch 88/100\n",
            "1250/1250 [==============================] - 26s 21ms/step - loss: 0.4004 - accuracy: 0.9544 - val_loss: 1.0180 - val_accuracy: 0.8154\n",
            "Epoch 89/100\n",
            "1250/1250 [==============================] - 26s 21ms/step - loss: 0.4042 - accuracy: 0.9542 - val_loss: 1.0097 - val_accuracy: 0.8235\n",
            "Epoch 90/100\n",
            "1250/1250 [==============================] - 26s 21ms/step - loss: 0.4009 - accuracy: 0.9546 - val_loss: 1.0284 - val_accuracy: 0.8222\n",
            "Epoch 91/100\n",
            "1250/1250 [==============================] - 26s 21ms/step - loss: 0.4116 - accuracy: 0.9519 - val_loss: 1.0218 - val_accuracy: 0.8271\n",
            "Epoch 92/100\n",
            "1250/1250 [==============================] - 26s 21ms/step - loss: 0.3974 - accuracy: 0.9564 - val_loss: 1.0443 - val_accuracy: 0.8233\n",
            "Epoch 93/100\n",
            "1250/1250 [==============================] - 26s 21ms/step - loss: 0.4017 - accuracy: 0.9554 - val_loss: 1.0564 - val_accuracy: 0.8232\n",
            "Epoch 94/100\n",
            "1250/1250 [==============================] - 26s 21ms/step - loss: 0.4114 - accuracy: 0.9518 - val_loss: 1.0388 - val_accuracy: 0.8245\n",
            "Epoch 95/100\n",
            "1250/1250 [==============================] - 26s 21ms/step - loss: 0.4074 - accuracy: 0.9536 - val_loss: 1.0633 - val_accuracy: 0.8183\n",
            "Epoch 96/100\n",
            "1250/1250 [==============================] - 26s 21ms/step - loss: 0.4083 - accuracy: 0.9535 - val_loss: 1.0060 - val_accuracy: 0.8277\n",
            "Epoch 97/100\n",
            "1250/1250 [==============================] - 27s 22ms/step - loss: 0.4032 - accuracy: 0.9543 - val_loss: 1.0138 - val_accuracy: 0.8219\n",
            "Epoch 98/100\n",
            "1250/1250 [==============================] - 26s 21ms/step - loss: 0.4067 - accuracy: 0.9544 - val_loss: 1.0374 - val_accuracy: 0.8245\n",
            "Epoch 99/100\n",
            "1250/1250 [==============================] - 27s 22ms/step - loss: 0.4116 - accuracy: 0.9542 - val_loss: 1.0059 - val_accuracy: 0.8236\n",
            "Epoch 100/100\n",
            "1250/1250 [==============================] - 26s 21ms/step - loss: 0.3977 - accuracy: 0.9568 - val_loss: 1.0293 - val_accuracy: 0.8247\n"
          ]
        },
        {
          "output_type": "execute_result",
          "data": {
            "text/plain": [
              "<keras.callbacks.History at 0x7faec446dee0>"
            ]
          },
          "metadata": {},
          "execution_count": 16
        }
      ]
    },
    {
      "cell_type": "code",
      "source": [
        "model.evaluate(x_test,y_test)"
      ],
      "metadata": {
        "id": "JLXQy8rPGWH5",
        "colab": {
          "base_uri": "https://localhost:8080/"
        },
        "outputId": "4f4f4d58-68c8-412b-c889-61738798597e"
      },
      "execution_count": 22,
      "outputs": [
        {
          "output_type": "stream",
          "name": "stdout",
          "text": [
            "313/313 [==============================] - 2s 7ms/step - loss: 1.0783 - accuracy: 0.8180\n"
          ]
        },
        {
          "output_type": "execute_result",
          "data": {
            "text/plain": [
              "[1.0782603025436401, 0.8180000185966492]"
            ]
          },
          "metadata": {},
          "execution_count": 22
        }
      ]
    },
    {
      "cell_type": "code",
      "source": [
        "predicted_values = model.predict(x_test)\n",
        "test_actual_result = np.argmax(y_test,axis = 1)\n",
        "predicted_values = np.argmax(predicted_values,axis=1)\n",
        "\n",
        "print(classification_report(test_actual_result,predicted_values))"
      ],
      "metadata": {
        "colab": {
          "base_uri": "https://localhost:8080/"
        },
        "id": "bNKMqr6M7MrA",
        "outputId": "8f97541e-cd3e-4a33-c7b6-ca3c163e3185"
      },
      "execution_count": 18,
      "outputs": [
        {
          "output_type": "stream",
          "name": "stdout",
          "text": [
            "313/313 [==============================] - 3s 7ms/step\n",
            "              precision    recall  f1-score   support\n",
            "\n",
            "           0       0.83      0.85      0.84      1000\n",
            "           1       0.91      0.91      0.91      1000\n",
            "           2       0.84      0.67      0.74      1000\n",
            "           3       0.68      0.62      0.65      1000\n",
            "           4       0.76      0.84      0.80      1000\n",
            "           5       0.74      0.74      0.74      1000\n",
            "           6       0.84      0.90      0.87      1000\n",
            "           7       0.81      0.89      0.85      1000\n",
            "           8       0.91      0.86      0.88      1000\n",
            "           9       0.86      0.91      0.88      1000\n",
            "\n",
            "    accuracy                           0.82     10000\n",
            "   macro avg       0.82      0.82      0.82     10000\n",
            "weighted avg       0.82      0.82      0.82     10000\n",
            "\n"
          ]
        }
      ]
    },
    {
      "cell_type": "code",
      "source": [
        "generated_confusion_matrix = confusion_matrix(test_actual_result,predicted_values)"
      ],
      "metadata": {
        "id": "gEZLSigH7RKN"
      },
      "execution_count": 19,
      "outputs": []
    },
    {
      "cell_type": "code",
      "source": [
        "confusionMatrix = ConfusionMatrixDisplay(confusion_matrix=generated_confusion_matrix,display_labels=[False,True])"
      ],
      "metadata": {
        "id": "d_yK9_7_7UaJ"
      },
      "execution_count": 20,
      "outputs": []
    },
    {
      "cell_type": "code",
      "source": [
        "confusionMatrix.plot()\n",
        "plt.show()"
      ],
      "metadata": {
        "colab": {
          "base_uri": "https://localhost:8080/",
          "height": 279
        },
        "id": "XXGTZ_sT7XeF",
        "outputId": "43449de3-5024-47c5-dfca-8383edb7adb6"
      },
      "execution_count": 21,
      "outputs": [
        {
          "output_type": "display_data",
          "data": {
            "text/plain": [
              "<Figure size 432x288 with 2 Axes>"
            ],
            "image/png": "[encoded data removed]"
          },
          "metadata": {
            "needs_background": "light"
          }
        }
      ]
    },
    {
      "cell_type": "code",
      "source": [],
      "metadata": {
        "id": "QD0sv8EgGgY7"
      },
      "execution_count": null,
      "outputs": []
    }
  ],
  "metadata": {
    "colab": {
      "provenance": []
    },
    "kernelspec": {
      "display_name": "Python 3",
      "name": "python3"
    },
    "language_info": {
      "name": "python"
    },
    "accelerator": "GPU",
    "gpuClass": "standard"
  },
  "nbformat": 4,
  "nbformat_minor": 0
}