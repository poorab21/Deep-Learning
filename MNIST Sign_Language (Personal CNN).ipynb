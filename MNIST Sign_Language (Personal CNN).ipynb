{
  "nbformat": 4,
  "nbformat_minor": 0,
  "metadata": {
    "colab": {
      "provenance": []
    },
    "kernelspec": {
      "name": "python3",
      "display_name": "Python 3"
    },
    "language_info": {
      "name": "python"
    }
  },
  "cells": [
    {
      "cell_type": "code",
      "execution_count": 8,
      "metadata": {
        "id": "nE64T7XgYSk-"
      },
      "outputs": [],
      "source": [
        "import pandas as pd\n",
        "import tensorflow as tf\n",
        "from tensorflow import keras"
      ]
    },
    {
      "cell_type": "code",
      "source": [
        "x_test = pd.read_csv('sign_mnist_test.csv')\n",
        "x_train = pd.read_csv('sign_mnist_train.csv')"
      ],
      "metadata": {
        "id": "q0k90IfDYoFq"
      },
      "execution_count": 9,
      "outputs": []
    },
    {
      "cell_type": "code",
      "source": [
        "y_train = x_train['label']\n",
        "y_test = x_test['label']\n",
        "x_train = x_train.drop(['label'],axis=1).values\n",
        "x_test = x_test.drop(['label'],axis=1).values"
      ],
      "metadata": {
        "id": "lo0FPxXnZiys"
      },
      "execution_count": 10,
      "outputs": []
    },
    {
      "cell_type": "code",
      "source": [
        "x_train = x_train.reshape(-1,28,28,1)\n",
        "x_test = x_test.reshape(-1,28,28,1)\n"
      ],
      "metadata": {
        "id": "hMLGL9vFZnju"
      },
      "execution_count": 11,
      "outputs": []
    },
    {
      "cell_type": "code",
      "source": [
        "x_train = x_train/255\n",
        "x_test = x_test/255"
      ],
      "metadata": {
        "id": "LiItD2dvdyrG"
      },
      "execution_count": 90,
      "outputs": []
    },
    {
      "cell_type": "code",
      "source": [
        "model = keras.models.Sequential([\n",
        "    keras.layers.Conv2D(32,(3,3),activation=\"relu\",input_shape = x_train[0].shape),\n",
        "    keras.layers.MaxPooling2D((2,2)),\n",
        "    keras.layers.Dropout(0.25),\n",
        "    keras.layers.Conv2D(64,(3,3),activation=\"relu\"),\n",
        "    keras.layers.MaxPooling2D((2,2)),\n",
        "    keras.layers.Dropout(0.25),\n",
        "    keras.layers.Conv2D(100,(3,3),activation=\"relu\"),\n",
        "    keras.layers.Dropout(0.25),\n",
        "    keras.layers.Flatten(),\n",
        "    keras.layers.Dense(120,activation=\"relu\"),\n",
        "    keras.layers.Dense(84,activation=\"relu\"),\n",
        "    keras.layers.Dense(25,activation=\"softmax\")\n",
        "])"
      ],
      "metadata": {
        "id": "lZMe3VnuerHs"
      },
      "execution_count": 91,
      "outputs": []
    },
    {
      "cell_type": "code",
      "source": [
        "model.summary()"
      ],
      "metadata": {
        "colab": {
          "base_uri": "https://localhost:8080/"
        },
        "id": "uWByh2oVe34X",
        "outputId": "dbbbc485-3b77-4340-b25b-24dd78703200"
      },
      "execution_count": 92,
      "outputs": [
        {
          "output_type": "stream",
          "name": "stdout",
          "text": [
            "Model: \"sequential_5\"\n",
            "_________________________________________________________________\n",
            " Layer (type)                Output Shape              Param #   \n",
            "=================================================================\n",
            " conv2d_15 (Conv2D)          (None, 26, 26, 32)        320       \n",
            "                                                                 \n",
            " max_pooling2d_10 (MaxPoolin  (None, 13, 13, 32)       0         \n",
            " g2D)                                                            \n",
            "                                                                 \n",
            " dropout_15 (Dropout)        (None, 13, 13, 32)        0         \n",
            "                                                                 \n",
            " conv2d_16 (Conv2D)          (None, 11, 11, 64)        18496     \n",
            "                                                                 \n",
            " max_pooling2d_11 (MaxPoolin  (None, 5, 5, 64)         0         \n",
            " g2D)                                                            \n",
            "                                                                 \n",
            " dropout_16 (Dropout)        (None, 5, 5, 64)          0         \n",
            "                                                                 \n",
            " conv2d_17 (Conv2D)          (None, 3, 3, 100)         57700     \n",
            "                                                                 \n",
            " dropout_17 (Dropout)        (None, 3, 3, 100)         0         \n",
            "                                                                 \n",
            " flatten_5 (Flatten)         (None, 900)               0         \n",
            "                                                                 \n",
            " dense_15 (Dense)            (None, 120)               108120    \n",
            "                                                                 \n",
            " dense_16 (Dense)            (None, 84)                10164     \n",
            "                                                                 \n",
            " dense_17 (Dense)            (None, 25)                2125      \n",
            "                                                                 \n",
            "=================================================================\n",
            "Total params: 196,925\n",
            "Trainable params: 196,925\n",
            "Non-trainable params: 0\n",
            "_________________________________________________________________\n"
          ]
        }
      ]
    },
    {
      "cell_type": "code",
      "source": [
        "model.compile(optimizer=\"adam\",loss = keras.losses.SparseCategoricalCrossentropy(from_logits=True),metrics=['accuracy'])"
      ],
      "metadata": {
        "id": "JWK6WiVCf0C_"
      },
      "execution_count": 93,
      "outputs": []
    },
    {
      "cell_type": "code",
      "source": [
        "model.fit(x_train,y_train,validation_data = (x_test,y_test),epochs = 15,batch_size = 55)"
      ],
      "metadata": {
        "colab": {
          "base_uri": "https://localhost:8080/"
        },
        "id": "3spsT2OlgQy1",
        "outputId": "d747edac-e3f0-4ce2-ad21-36bf33d25190"
      },
      "execution_count": 94,
      "outputs": [
        {
          "output_type": "stream",
          "name": "stdout",
          "text": [
            "Epoch 1/15\n"
          ]
        },
        {
          "output_type": "stream",
          "name": "stderr",
          "text": [
            "/usr/local/lib/python3.7/dist-packages/tensorflow/python/util/dispatch.py:1082: UserWarning: \"`sparse_categorical_crossentropy` received `from_logits=True`, but the `output` argument was produced by a sigmoid or softmax activation and thus does not represent logits. Was this intended?\"\n",
            "  return dispatch_target(*args, **kwargs)\n"
          ]
        },
        {
          "output_type": "stream",
          "name": "stdout",
          "text": [
            "500/500 [==============================] - 36s 70ms/step - loss: 1.7318 - accuracy: 0.4579 - val_loss: 0.6677 - val_accuracy: 0.7786\n",
            "Epoch 2/15\n",
            "500/500 [==============================] - 34s 68ms/step - loss: 0.3505 - accuracy: 0.8773 - val_loss: 0.3654 - val_accuracy: 0.8839\n",
            "Epoch 3/15\n",
            "500/500 [==============================] - 34s 69ms/step - loss: 0.1498 - accuracy: 0.9504 - val_loss: 0.3199 - val_accuracy: 0.9191\n",
            "Epoch 4/15\n",
            "500/500 [==============================] - 35s 69ms/step - loss: 0.0831 - accuracy: 0.9728 - val_loss: 0.2328 - val_accuracy: 0.9268\n",
            "Epoch 5/15\n",
            "500/500 [==============================] - 35s 70ms/step - loss: 0.0528 - accuracy: 0.9831 - val_loss: 0.3064 - val_accuracy: 0.9296\n",
            "Epoch 6/15\n",
            "500/500 [==============================] - 36s 71ms/step - loss: 0.0418 - accuracy: 0.9864 - val_loss: 0.2342 - val_accuracy: 0.9313\n",
            "Epoch 7/15\n",
            "500/500 [==============================] - 34s 69ms/step - loss: 0.0388 - accuracy: 0.9873 - val_loss: 0.3198 - val_accuracy: 0.9162\n",
            "Epoch 8/15\n",
            "500/500 [==============================] - 34s 68ms/step - loss: 0.0278 - accuracy: 0.9909 - val_loss: 0.2199 - val_accuracy: 0.9360\n",
            "Epoch 9/15\n",
            "500/500 [==============================] - 34s 68ms/step - loss: 0.0280 - accuracy: 0.9917 - val_loss: 0.2712 - val_accuracy: 0.9375\n",
            "Epoch 10/15\n",
            "500/500 [==============================] - 34s 68ms/step - loss: 0.0264 - accuracy: 0.9915 - val_loss: 0.2242 - val_accuracy: 0.9530\n",
            "Epoch 11/15\n",
            "500/500 [==============================] - 34s 68ms/step - loss: 0.0262 - accuracy: 0.9918 - val_loss: 0.2175 - val_accuracy: 0.9479\n",
            "Epoch 12/15\n",
            "500/500 [==============================] - 36s 72ms/step - loss: 0.0195 - accuracy: 0.9936 - val_loss: 0.3071 - val_accuracy: 0.9297\n",
            "Epoch 13/15\n",
            "500/500 [==============================] - 34s 68ms/step - loss: 0.0179 - accuracy: 0.9946 - val_loss: 0.2254 - val_accuracy: 0.9491\n",
            "Epoch 14/15\n",
            "500/500 [==============================] - 34s 69ms/step - loss: 0.0197 - accuracy: 0.9937 - val_loss: 0.2957 - val_accuracy: 0.9364\n",
            "Epoch 15/15\n",
            "500/500 [==============================] - 34s 68ms/step - loss: 0.0143 - accuracy: 0.9952 - val_loss: 0.2900 - val_accuracy: 0.9434\n"
          ]
        },
        {
          "output_type": "execute_result",
          "data": {
            "text/plain": [
              "<keras.callbacks.History at 0x7fd35a305490>"
            ]
          },
          "metadata": {},
          "execution_count": 94
        }
      ]
    },
    {
      "cell_type": "code",
      "source": [],
      "metadata": {
        "id": "z0wSN6kygrl0"
      },
      "execution_count": null,
      "outputs": []
    }
  ]
}