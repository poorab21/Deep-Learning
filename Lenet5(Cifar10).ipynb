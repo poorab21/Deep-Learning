{
  "cells": [
    {
      "cell_type": "code",
      "source": [
        "import tensorflow as tf\n",
        "from keras.utils import np_utils\n",
        "import numpy as np"
      ],
      "metadata": {
        "id": "6uA7S7csM5OZ"
      },
      "execution_count": 16,
      "outputs": []
    },
    {
      "cell_type": "code",
      "source": [
        "( x_train , y_train ) , ( x_test , y_test ) = tf.keras.datasets.cifar10.load_data()"
      ],
      "metadata": {
        "id": "maWQNySFNDCZ"
      },
      "execution_count": 17,
      "outputs": []
    },
    {
      "cell_type": "code",
      "source": [
        "x_train , x_test = x_train/256 , x_test/256\n"
      ],
      "metadata": {
        "id": "5SDM-2cxNl5m"
      },
      "execution_count": 18,
      "outputs": []
    },
    {
      "cell_type": "code",
      "source": [
        "y_train = np_utils.to_categorical(y_train,10)\n",
        "y_test = np_utils.to_categorical(y_test,10)"
      ],
      "metadata": {
        "id": "s9IrPolxNqV9"
      },
      "execution_count": 19,
      "outputs": []
    },
    {
      "cell_type": "code",
      "source": [
        "model = tf.keras.Sequential([\n",
        "    tf.keras.layers.Conv2D(6,(5,5),1,activation = 'relu',input_shape = x_train[0].shape),\n",
        "    tf.keras.layers.MaxPooling2D(),\n",
        "    tf.keras.layers.Conv2D(16,(5,5),1,activation = 'relu'),\n",
        "    tf.keras.layers.MaxPooling2D(),\n",
        "    tf.keras.layers.Flatten(),\n",
        "    tf.keras.layers.Dense(120,activation=\"relu\"),\n",
        "    tf.keras.layers.Dense(10,activation=\"softmax\")   \n",
        "])"
      ],
      "metadata": {
        "id": "lR_Rwp7TOGSy"
      },
      "execution_count": 20,
      "outputs": []
    },
    {
      "cell_type": "code",
      "source": [
        "model.compile( optimizer = \"adam\" , loss = tf.keras.losses.CategoricalCrossentropy(from_logits=False) , metrics = ['accuracy'])"
      ],
      "metadata": {
        "id": "obiikFWgOHjC"
      },
      "execution_count": 21,
      "outputs": []
    },
    {
      "cell_type": "code",
      "source": [
        "model.fit(x_train,y_train,256,150,validation_data=(x_test,y_test))"
      ],
      "metadata": {
        "colab": {
          "base_uri": "https://localhost:8080/",
          "height": 1000
        },
        "id": "P8sd-XGTPwXt",
        "outputId": "d2f96e35-c3b7-49a8-aafd-ed4fdf85a934"
      },
      "execution_count": 22,
      "outputs": [
        {
          "output_type": "stream",
          "name": "stdout",
          "text": [
            "Epoch 1/150\n",
            "196/196 [==============================] - 47s 235ms/step - loss: 1.8800 - accuracy: 0.3170 - val_loss: 1.6208 - val_accuracy: 0.4169\n",
            "Epoch 2/150\n",
            "196/196 [==============================] - 45s 227ms/step - loss: 1.5605 - accuracy: 0.4371 - val_loss: 1.5013 - val_accuracy: 0.4539\n",
            "Epoch 3/150\n",
            "196/196 [==============================] - 44s 223ms/step - loss: 1.4564 - accuracy: 0.4797 - val_loss: 1.4322 - val_accuracy: 0.4866\n",
            "Epoch 4/150\n",
            "196/196 [==============================] - 43s 218ms/step - loss: 1.3851 - accuracy: 0.5091 - val_loss: 1.3554 - val_accuracy: 0.5110\n",
            "Epoch 5/150\n",
            "196/196 [==============================] - 45s 227ms/step - loss: 1.3283 - accuracy: 0.5283 - val_loss: 1.3118 - val_accuracy: 0.5325\n",
            "Epoch 6/150\n",
            "196/196 [==============================] - 43s 218ms/step - loss: 1.2827 - accuracy: 0.5485 - val_loss: 1.2855 - val_accuracy: 0.5367\n",
            "Epoch 7/150\n",
            "196/196 [==============================] - 44s 225ms/step - loss: 1.2480 - accuracy: 0.5594 - val_loss: 1.3055 - val_accuracy: 0.5344\n",
            "Epoch 8/150\n",
            "196/196 [==============================] - 44s 225ms/step - loss: 1.2208 - accuracy: 0.5704 - val_loss: 1.2404 - val_accuracy: 0.5668\n",
            "Epoch 9/150\n",
            "196/196 [==============================] - 43s 219ms/step - loss: 1.1860 - accuracy: 0.5807 - val_loss: 1.2463 - val_accuracy: 0.5559\n",
            "Epoch 10/150\n",
            "196/196 [==============================] - 43s 218ms/step - loss: 1.1614 - accuracy: 0.5909 - val_loss: 1.2116 - val_accuracy: 0.5660\n",
            "Epoch 11/150\n",
            "196/196 [==============================] - 43s 219ms/step - loss: 1.1429 - accuracy: 0.5974 - val_loss: 1.1737 - val_accuracy: 0.5813\n",
            "Epoch 12/150\n",
            "196/196 [==============================] - 43s 219ms/step - loss: 1.1185 - accuracy: 0.6071 - val_loss: 1.1834 - val_accuracy: 0.5843\n",
            "Epoch 13/150\n",
            "196/196 [==============================] - 46s 234ms/step - loss: 1.1003 - accuracy: 0.6149 - val_loss: 1.1599 - val_accuracy: 0.5904\n",
            "Epoch 14/150\n",
            "196/196 [==============================] - 44s 226ms/step - loss: 1.0801 - accuracy: 0.6193 - val_loss: 1.1639 - val_accuracy: 0.5863\n",
            "Epoch 15/150\n",
            "196/196 [==============================] - 43s 220ms/step - loss: 1.0677 - accuracy: 0.6240 - val_loss: 1.1249 - val_accuracy: 0.6021\n",
            "Epoch 16/150\n",
            "196/196 [==============================] - 43s 220ms/step - loss: 1.0499 - accuracy: 0.6317 - val_loss: 1.1294 - val_accuracy: 0.6041\n",
            "Epoch 17/150\n",
            "196/196 [==============================] - 43s 219ms/step - loss: 1.0335 - accuracy: 0.6375 - val_loss: 1.1316 - val_accuracy: 0.5981\n",
            "Epoch 18/150\n",
            "196/196 [==============================] - 43s 219ms/step - loss: 1.0203 - accuracy: 0.6411 - val_loss: 1.1097 - val_accuracy: 0.6085\n",
            "Epoch 19/150\n",
            "196/196 [==============================] - 45s 230ms/step - loss: 1.0093 - accuracy: 0.6447 - val_loss: 1.1197 - val_accuracy: 0.6088\n",
            "Epoch 20/150\n",
            "196/196 [==============================] - 43s 219ms/step - loss: 0.9926 - accuracy: 0.6533 - val_loss: 1.1218 - val_accuracy: 0.6088\n",
            "Epoch 21/150\n",
            "196/196 [==============================] - 46s 235ms/step - loss: 0.9807 - accuracy: 0.6571 - val_loss: 1.1519 - val_accuracy: 0.5974\n",
            "Epoch 22/150\n",
            "196/196 [==============================] - 43s 219ms/step - loss: 0.9670 - accuracy: 0.6610 - val_loss: 1.0979 - val_accuracy: 0.6177\n",
            "Epoch 23/150\n",
            "196/196 [==============================] - 43s 220ms/step - loss: 0.9534 - accuracy: 0.6669 - val_loss: 1.0953 - val_accuracy: 0.6136\n",
            "Epoch 24/150\n",
            "196/196 [==============================] - 43s 219ms/step - loss: 0.9459 - accuracy: 0.6694 - val_loss: 1.1029 - val_accuracy: 0.6178\n",
            "Epoch 25/150\n",
            "196/196 [==============================] - 44s 226ms/step - loss: 0.9354 - accuracy: 0.6710 - val_loss: 1.1041 - val_accuracy: 0.6153\n",
            "Epoch 26/150\n",
            "196/196 [==============================] - 44s 226ms/step - loss: 0.9241 - accuracy: 0.6783 - val_loss: 1.0779 - val_accuracy: 0.6238\n",
            "Epoch 27/150\n",
            "196/196 [==============================] - 45s 227ms/step - loss: 0.9148 - accuracy: 0.6814 - val_loss: 1.0824 - val_accuracy: 0.6187\n",
            "Epoch 28/150\n",
            "196/196 [==============================] - 43s 218ms/step - loss: 0.9000 - accuracy: 0.6851 - val_loss: 1.1031 - val_accuracy: 0.6108\n",
            "Epoch 29/150\n",
            "196/196 [==============================] - 43s 221ms/step - loss: 0.8953 - accuracy: 0.6858 - val_loss: 1.0815 - val_accuracy: 0.6240\n",
            "Epoch 30/150\n",
            "196/196 [==============================] - 43s 219ms/step - loss: 0.8809 - accuracy: 0.6909 - val_loss: 1.0724 - val_accuracy: 0.6234\n",
            "Epoch 31/150\n",
            "196/196 [==============================] - 46s 234ms/step - loss: 0.8733 - accuracy: 0.6950 - val_loss: 1.0791 - val_accuracy: 0.6253\n",
            "Epoch 32/150\n",
            "196/196 [==============================] - 44s 227ms/step - loss: 0.8666 - accuracy: 0.6975 - val_loss: 1.0920 - val_accuracy: 0.6221\n",
            "Epoch 33/150\n",
            "196/196 [==============================] - 43s 219ms/step - loss: 0.8574 - accuracy: 0.6991 - val_loss: 1.0924 - val_accuracy: 0.6193\n",
            "Epoch 34/150\n",
            "196/196 [==============================] - 43s 220ms/step - loss: 0.8472 - accuracy: 0.7052 - val_loss: 1.0640 - val_accuracy: 0.6278\n",
            "Epoch 35/150\n",
            "196/196 [==============================] - 45s 228ms/step - loss: 0.8447 - accuracy: 0.7037 - val_loss: 1.0837 - val_accuracy: 0.6220\n",
            "Epoch 36/150\n",
            "196/196 [==============================] - 43s 220ms/step - loss: 0.8298 - accuracy: 0.7101 - val_loss: 1.0786 - val_accuracy: 0.6257\n",
            "Epoch 37/150\n",
            "196/196 [==============================] - 44s 227ms/step - loss: 0.8281 - accuracy: 0.7117 - val_loss: 1.0924 - val_accuracy: 0.6249\n",
            "Epoch 38/150\n",
            "132/196 [===================>..........] - ETA: 12s - loss: 0.8057 - accuracy: 0.7195"
          ]
        },
        {
          "output_type": "error",
          "ename": "KeyboardInterrupt",
          "evalue": "ignored",
          "traceback": [
            "\u001b[0;31m---------------------------------------------------------------------------\u001b[0m",
            "\u001b[0;31mKeyboardInterrupt\u001b[0m                         Traceback (most recent call last)",
            "\u001b[0;32m<ipython-input-22-c93b08dae8c9>\u001b[0m in \u001b[0;36m<module>\u001b[0;34m\u001b[0m\n\u001b[0;32m----> 1\u001b[0;31m \u001b[0mmodel\u001b[0m\u001b[0;34m.\u001b[0m\u001b[0mfit\u001b[0m\u001b[0;34m(\u001b[0m\u001b[0mx_train\u001b[0m\u001b[0;34m,\u001b[0m\u001b[0my_train\u001b[0m\u001b[0;34m,\u001b[0m\u001b[0;36m256\u001b[0m\u001b[0;34m,\u001b[0m\u001b[0;36m150\u001b[0m\u001b[0;34m,\u001b[0m\u001b[0mvalidation_data\u001b[0m\u001b[0;34m=\u001b[0m\u001b[0;34m(\u001b[0m\u001b[0mx_test\u001b[0m\u001b[0;34m,\u001b[0m\u001b[0my_test\u001b[0m\u001b[0;34m)\u001b[0m\u001b[0;34m)\u001b[0m\u001b[0;34m\u001b[0m\u001b[0;34m\u001b[0m\u001b[0m\n\u001b[0m",
            "\u001b[0;32m/usr/local/lib/python3.7/dist-packages/keras/utils/traceback_utils.py\u001b[0m in \u001b[0;36merror_handler\u001b[0;34m(*args, **kwargs)\u001b[0m\n\u001b[1;32m     62\u001b[0m     \u001b[0mfiltered_tb\u001b[0m \u001b[0;34m=\u001b[0m \u001b[0;32mNone\u001b[0m\u001b[0;34m\u001b[0m\u001b[0;34m\u001b[0m\u001b[0m\n\u001b[1;32m     63\u001b[0m     \u001b[0;32mtry\u001b[0m\u001b[0;34m:\u001b[0m\u001b[0;34m\u001b[0m\u001b[0;34m\u001b[0m\u001b[0m\n\u001b[0;32m---> 64\u001b[0;31m       \u001b[0;32mreturn\u001b[0m \u001b[0mfn\u001b[0m\u001b[0;34m(\u001b[0m\u001b[0;34m*\u001b[0m\u001b[0margs\u001b[0m\u001b[0;34m,\u001b[0m \u001b[0;34m**\u001b[0m\u001b[0mkwargs\u001b[0m\u001b[0;34m)\u001b[0m\u001b[0;34m\u001b[0m\u001b[0;34m\u001b[0m\u001b[0m\n\u001b[0m\u001b[1;32m     65\u001b[0m     \u001b[0;32mexcept\u001b[0m \u001b[0mException\u001b[0m \u001b[0;32mas\u001b[0m \u001b[0me\u001b[0m\u001b[0;34m:\u001b[0m  \u001b[0;31m# pylint: disable=broad-except\u001b[0m\u001b[0;34m\u001b[0m\u001b[0;34m\u001b[0m\u001b[0m\n\u001b[1;32m     66\u001b[0m       \u001b[0mfiltered_tb\u001b[0m \u001b[0;34m=\u001b[0m \u001b[0m_process_traceback_frames\u001b[0m\u001b[0;34m(\u001b[0m\u001b[0me\u001b[0m\u001b[0;34m.\u001b[0m\u001b[0m__traceback__\u001b[0m\u001b[0;34m)\u001b[0m\u001b[0;34m\u001b[0m\u001b[0;34m\u001b[0m\u001b[0m\n",
            "\u001b[0;32m/usr/local/lib/python3.7/dist-packages/keras/engine/training.py\u001b[0m in \u001b[0;36mfit\u001b[0;34m(self, x, y, batch_size, epochs, verbose, callbacks, validation_split, validation_data, shuffle, class_weight, sample_weight, initial_epoch, steps_per_epoch, validation_steps, validation_batch_size, validation_freq, max_queue_size, workers, use_multiprocessing)\u001b[0m\n\u001b[1;32m   1407\u001b[0m                 _r=1):\n\u001b[1;32m   1408\u001b[0m               \u001b[0mcallbacks\u001b[0m\u001b[0;34m.\u001b[0m\u001b[0mon_train_batch_begin\u001b[0m\u001b[0;34m(\u001b[0m\u001b[0mstep\u001b[0m\u001b[0;34m)\u001b[0m\u001b[0;34m\u001b[0m\u001b[0;34m\u001b[0m\u001b[0m\n\u001b[0;32m-> 1409\u001b[0;31m               \u001b[0mtmp_logs\u001b[0m \u001b[0;34m=\u001b[0m \u001b[0mself\u001b[0m\u001b[0;34m.\u001b[0m\u001b[0mtrain_function\u001b[0m\u001b[0;34m(\u001b[0m\u001b[0miterator\u001b[0m\u001b[0;34m)\u001b[0m\u001b[0;34m\u001b[0m\u001b[0;34m\u001b[0m\u001b[0m\n\u001b[0m\u001b[1;32m   1410\u001b[0m               \u001b[0;32mif\u001b[0m \u001b[0mdata_handler\u001b[0m\u001b[0;34m.\u001b[0m\u001b[0mshould_sync\u001b[0m\u001b[0;34m:\u001b[0m\u001b[0;34m\u001b[0m\u001b[0;34m\u001b[0m\u001b[0m\n\u001b[1;32m   1411\u001b[0m                 \u001b[0mcontext\u001b[0m\u001b[0;34m.\u001b[0m\u001b[0masync_wait\u001b[0m\u001b[0;34m(\u001b[0m\u001b[0;34m)\u001b[0m\u001b[0;34m\u001b[0m\u001b[0;34m\u001b[0m\u001b[0m\n",
            "\u001b[0;32m/usr/local/lib/python3.7/dist-packages/tensorflow/python/util/traceback_utils.py\u001b[0m in \u001b[0;36merror_handler\u001b[0;34m(*args, **kwargs)\u001b[0m\n\u001b[1;32m    148\u001b[0m     \u001b[0mfiltered_tb\u001b[0m \u001b[0;34m=\u001b[0m \u001b[0;32mNone\u001b[0m\u001b[0;34m\u001b[0m\u001b[0;34m\u001b[0m\u001b[0m\n\u001b[1;32m    149\u001b[0m     \u001b[0;32mtry\u001b[0m\u001b[0;34m:\u001b[0m\u001b[0;34m\u001b[0m\u001b[0;34m\u001b[0m\u001b[0m\n\u001b[0;32m--> 150\u001b[0;31m       \u001b[0;32mreturn\u001b[0m \u001b[0mfn\u001b[0m\u001b[0;34m(\u001b[0m\u001b[0;34m*\u001b[0m\u001b[0margs\u001b[0m\u001b[0;34m,\u001b[0m \u001b[0;34m**\u001b[0m\u001b[0mkwargs\u001b[0m\u001b[0;34m)\u001b[0m\u001b[0;34m\u001b[0m\u001b[0;34m\u001b[0m\u001b[0m\n\u001b[0m\u001b[1;32m    151\u001b[0m     \u001b[0;32mexcept\u001b[0m \u001b[0mException\u001b[0m \u001b[0;32mas\u001b[0m \u001b[0me\u001b[0m\u001b[0;34m:\u001b[0m\u001b[0;34m\u001b[0m\u001b[0;34m\u001b[0m\u001b[0m\n\u001b[1;32m    152\u001b[0m       \u001b[0mfiltered_tb\u001b[0m \u001b[0;34m=\u001b[0m \u001b[0m_process_traceback_frames\u001b[0m\u001b[0;34m(\u001b[0m\u001b[0me\u001b[0m\u001b[0;34m.\u001b[0m\u001b[0m__traceback__\u001b[0m\u001b[0;34m)\u001b[0m\u001b[0;34m\u001b[0m\u001b[0;34m\u001b[0m\u001b[0m\n",
            "\u001b[0;32m/usr/local/lib/python3.7/dist-packages/tensorflow/python/eager/def_function.py\u001b[0m in \u001b[0;36m__call__\u001b[0;34m(self, *args, **kwds)\u001b[0m\n\u001b[1;32m    913\u001b[0m \u001b[0;34m\u001b[0m\u001b[0m\n\u001b[1;32m    914\u001b[0m       \u001b[0;32mwith\u001b[0m \u001b[0mOptionalXlaContext\u001b[0m\u001b[0;34m(\u001b[0m\u001b[0mself\u001b[0m\u001b[0;34m.\u001b[0m\u001b[0m_jit_compile\u001b[0m\u001b[0;34m)\u001b[0m\u001b[0;34m:\u001b[0m\u001b[0;34m\u001b[0m\u001b[0;34m\u001b[0m\u001b[0m\n\u001b[0;32m--> 915\u001b[0;31m         \u001b[0mresult\u001b[0m \u001b[0;34m=\u001b[0m \u001b[0mself\u001b[0m\u001b[0;34m.\u001b[0m\u001b[0m_call\u001b[0m\u001b[0;34m(\u001b[0m\u001b[0;34m*\u001b[0m\u001b[0margs\u001b[0m\u001b[0;34m,\u001b[0m \u001b[0;34m**\u001b[0m\u001b[0mkwds\u001b[0m\u001b[0;34m)\u001b[0m\u001b[0;34m\u001b[0m\u001b[0;34m\u001b[0m\u001b[0m\n\u001b[0m\u001b[1;32m    916\u001b[0m \u001b[0;34m\u001b[0m\u001b[0m\n\u001b[1;32m    917\u001b[0m       \u001b[0mnew_tracing_count\u001b[0m \u001b[0;34m=\u001b[0m \u001b[0mself\u001b[0m\u001b[0;34m.\u001b[0m\u001b[0mexperimental_get_tracing_count\u001b[0m\u001b[0;34m(\u001b[0m\u001b[0;34m)\u001b[0m\u001b[0;34m\u001b[0m\u001b[0;34m\u001b[0m\u001b[0m\n",
            "\u001b[0;32m/usr/local/lib/python3.7/dist-packages/tensorflow/python/eager/def_function.py\u001b[0m in \u001b[0;36m_call\u001b[0;34m(self, *args, **kwds)\u001b[0m\n\u001b[1;32m    945\u001b[0m       \u001b[0;31m# In this case we have created variables on the first call, so we run the\u001b[0m\u001b[0;34m\u001b[0m\u001b[0;34m\u001b[0m\u001b[0;34m\u001b[0m\u001b[0m\n\u001b[1;32m    946\u001b[0m       \u001b[0;31m# defunned version which is guaranteed to never create variables.\u001b[0m\u001b[0;34m\u001b[0m\u001b[0;34m\u001b[0m\u001b[0;34m\u001b[0m\u001b[0m\n\u001b[0;32m--> 947\u001b[0;31m       \u001b[0;32mreturn\u001b[0m \u001b[0mself\u001b[0m\u001b[0;34m.\u001b[0m\u001b[0m_stateless_fn\u001b[0m\u001b[0;34m(\u001b[0m\u001b[0;34m*\u001b[0m\u001b[0margs\u001b[0m\u001b[0;34m,\u001b[0m \u001b[0;34m**\u001b[0m\u001b[0mkwds\u001b[0m\u001b[0;34m)\u001b[0m  \u001b[0;31m# pylint: disable=not-callable\u001b[0m\u001b[0;34m\u001b[0m\u001b[0;34m\u001b[0m\u001b[0m\n\u001b[0m\u001b[1;32m    948\u001b[0m     \u001b[0;32melif\u001b[0m \u001b[0mself\u001b[0m\u001b[0;34m.\u001b[0m\u001b[0m_stateful_fn\u001b[0m \u001b[0;32mis\u001b[0m \u001b[0;32mnot\u001b[0m \u001b[0;32mNone\u001b[0m\u001b[0;34m:\u001b[0m\u001b[0;34m\u001b[0m\u001b[0;34m\u001b[0m\u001b[0m\n\u001b[1;32m    949\u001b[0m       \u001b[0;31m# Release the lock early so that multiple threads can perform the call\u001b[0m\u001b[0;34m\u001b[0m\u001b[0;34m\u001b[0m\u001b[0;34m\u001b[0m\u001b[0m\n",
            "\u001b[0;32m/usr/local/lib/python3.7/dist-packages/tensorflow/python/eager/function.py\u001b[0m in \u001b[0;36m__call__\u001b[0;34m(self, *args, **kwargs)\u001b[0m\n\u001b[1;32m   2452\u001b[0m        filtered_flat_args) = self._maybe_define_function(args, kwargs)\n\u001b[1;32m   2453\u001b[0m     return graph_function._call_flat(\n\u001b[0;32m-> 2454\u001b[0;31m         filtered_flat_args, captured_inputs=graph_function.captured_inputs)  # pylint: disable=protected-access\n\u001b[0m\u001b[1;32m   2455\u001b[0m \u001b[0;34m\u001b[0m\u001b[0m\n\u001b[1;32m   2456\u001b[0m   \u001b[0;34m@\u001b[0m\u001b[0mproperty\u001b[0m\u001b[0;34m\u001b[0m\u001b[0;34m\u001b[0m\u001b[0m\n",
            "\u001b[0;32m/usr/local/lib/python3.7/dist-packages/tensorflow/python/eager/function.py\u001b[0m in \u001b[0;36m_call_flat\u001b[0;34m(self, args, captured_inputs, cancellation_manager)\u001b[0m\n\u001b[1;32m   1859\u001b[0m       \u001b[0;31m# No tape is watching; skip to running the function.\u001b[0m\u001b[0;34m\u001b[0m\u001b[0;34m\u001b[0m\u001b[0;34m\u001b[0m\u001b[0m\n\u001b[1;32m   1860\u001b[0m       return self._build_call_outputs(self._inference_function.call(\n\u001b[0;32m-> 1861\u001b[0;31m           ctx, args, cancellation_manager=cancellation_manager))\n\u001b[0m\u001b[1;32m   1862\u001b[0m     forward_backward = self._select_forward_and_backward_functions(\n\u001b[1;32m   1863\u001b[0m         \u001b[0margs\u001b[0m\u001b[0;34m,\u001b[0m\u001b[0;34m\u001b[0m\u001b[0;34m\u001b[0m\u001b[0m\n",
            "\u001b[0;32m/usr/local/lib/python3.7/dist-packages/tensorflow/python/eager/function.py\u001b[0m in \u001b[0;36mcall\u001b[0;34m(self, ctx, args, cancellation_manager)\u001b[0m\n\u001b[1;32m    500\u001b[0m               \u001b[0minputs\u001b[0m\u001b[0;34m=\u001b[0m\u001b[0margs\u001b[0m\u001b[0;34m,\u001b[0m\u001b[0;34m\u001b[0m\u001b[0;34m\u001b[0m\u001b[0m\n\u001b[1;32m    501\u001b[0m               \u001b[0mattrs\u001b[0m\u001b[0;34m=\u001b[0m\u001b[0mattrs\u001b[0m\u001b[0;34m,\u001b[0m\u001b[0;34m\u001b[0m\u001b[0;34m\u001b[0m\u001b[0m\n\u001b[0;32m--> 502\u001b[0;31m               ctx=ctx)\n\u001b[0m\u001b[1;32m    503\u001b[0m         \u001b[0;32melse\u001b[0m\u001b[0;34m:\u001b[0m\u001b[0;34m\u001b[0m\u001b[0;34m\u001b[0m\u001b[0m\n\u001b[1;32m    504\u001b[0m           outputs = execute.execute_with_cancellation(\n",
            "\u001b[0;32m/usr/local/lib/python3.7/dist-packages/tensorflow/python/eager/execute.py\u001b[0m in \u001b[0;36mquick_execute\u001b[0;34m(op_name, num_outputs, inputs, attrs, ctx, name)\u001b[0m\n\u001b[1;32m     53\u001b[0m     \u001b[0mctx\u001b[0m\u001b[0;34m.\u001b[0m\u001b[0mensure_initialized\u001b[0m\u001b[0;34m(\u001b[0m\u001b[0;34m)\u001b[0m\u001b[0;34m\u001b[0m\u001b[0;34m\u001b[0m\u001b[0m\n\u001b[1;32m     54\u001b[0m     tensors = pywrap_tfe.TFE_Py_Execute(ctx._handle, device_name, op_name,\n\u001b[0;32m---> 55\u001b[0;31m                                         inputs, attrs, num_outputs)\n\u001b[0m\u001b[1;32m     56\u001b[0m   \u001b[0;32mexcept\u001b[0m \u001b[0mcore\u001b[0m\u001b[0;34m.\u001b[0m\u001b[0m_NotOkStatusException\u001b[0m \u001b[0;32mas\u001b[0m \u001b[0me\u001b[0m\u001b[0;34m:\u001b[0m\u001b[0;34m\u001b[0m\u001b[0;34m\u001b[0m\u001b[0m\n\u001b[1;32m     57\u001b[0m     \u001b[0;32mif\u001b[0m \u001b[0mname\u001b[0m \u001b[0;32mis\u001b[0m \u001b[0;32mnot\u001b[0m \u001b[0;32mNone\u001b[0m\u001b[0;34m:\u001b[0m\u001b[0;34m\u001b[0m\u001b[0;34m\u001b[0m\u001b[0m\n",
            "\u001b[0;31mKeyboardInterrupt\u001b[0m: "
          ]
        }
      ]
    },
    {
      "cell_type": "code",
      "source": [],
      "metadata": {
        "id": "yjCs4sZNVHdy"
      },
      "execution_count": null,
      "outputs": []
    }
  ],
  "metadata": {
    "colab": {
      "provenance": []
    },
    "kernelspec": {
      "display_name": "Python 3",
      "name": "python3"
    },
    "language_info": {
      "name": "python"
    }
  },
  "nbformat": 4,
  "nbformat_minor": 0
}