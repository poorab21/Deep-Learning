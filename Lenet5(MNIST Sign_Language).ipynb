{
  "nbformat": 4,
  "nbformat_minor": 0,
  "metadata": {
    "colab": {
      "provenance": []
    },
    "kernelspec": {
      "name": "python3",
      "display_name": "Python 3"
    },
    "language_info": {
      "name": "python"
    }
  },
  "cells": [
    {
      "cell_type": "code",
      "execution_count": 38,
      "metadata": {
        "id": "lEhLkaIW3MG1"
      },
      "outputs": [],
      "source": [
        "import pandas as pd\n",
        "import tensorflow as tf\n",
        "from tensorflow import keras\n",
        "import matplotlib.pyplot as plt"
      ]
    },
    {
      "cell_type": "code",
      "source": [
        "x_train = pd.read_csv('sign_mnist_train.csv')\n",
        "x_test = pd.read_csv('sign_mnist_test.csv')"
      ],
      "metadata": {
        "id": "rfk1eYHW3T0R"
      },
      "execution_count": 39,
      "outputs": []
    },
    {
      "cell_type": "code",
      "source": [
        "y_train = x_train['label']\n",
        "y_test = x_test['label']\n",
        "x_train = x_train.drop(['label'],axis=1).values\n",
        "x_test = x_test.drop(['label'],axis=1).values"
      ],
      "metadata": {
        "id": "WBbhonNJ4tOP"
      },
      "execution_count": 40,
      "outputs": []
    },
    {
      "cell_type": "code",
      "source": [
        "x_train = x_train.reshape(-1,28,28,1)\n",
        "x_test = x_test.reshape(-1,28,28,1)"
      ],
      "metadata": {
        "id": "m2uA848p6c0f"
      },
      "execution_count": 41,
      "outputs": []
    },
    {
      "cell_type": "code",
      "source": [
        "model = tf.keras.Sequential([\n",
        "    tf.keras.layers.Conv2D(6,(5,5),1,activation = 'relu',input_shape = x_train[0].shape),\n",
        "    tf.keras.layers.MaxPooling2D(),\n",
        "    tf.keras.layers.Conv2D(16,(5,5),1,activation = 'relu'),\n",
        "    tf.keras.layers.MaxPooling2D(),\n",
        "    tf.keras.layers.Flatten(),\n",
        "    tf.keras.layers.Dense(120,activation=\"relu\"),\n",
        "    tf.keras.layers.Dense(25,activation=\"softmax\")   \n",
        "])"
      ],
      "metadata": {
        "id": "BzBbhpyq6nfO"
      },
      "execution_count": 42,
      "outputs": []
    },
    {
      "cell_type": "code",
      "source": [
        "model.summary()"
      ],
      "metadata": {
        "colab": {
          "base_uri": "https://localhost:8080/"
        },
        "id": "5HoekXmR7HDP",
        "outputId": "d9209820-ed8f-4f98-f3b8-5db6f18f135e"
      },
      "execution_count": 43,
      "outputs": [
        {
          "output_type": "stream",
          "name": "stdout",
          "text": [
            "Model: \"sequential_2\"\n",
            "_________________________________________________________________\n",
            " Layer (type)                Output Shape              Param #   \n",
            "=================================================================\n",
            " conv2d_4 (Conv2D)           (None, 24, 24, 6)         156       \n",
            "                                                                 \n",
            " max_pooling2d_4 (MaxPooling  (None, 12, 12, 6)        0         \n",
            " 2D)                                                             \n",
            "                                                                 \n",
            " conv2d_5 (Conv2D)           (None, 8, 8, 16)          2416      \n",
            "                                                                 \n",
            " max_pooling2d_5 (MaxPooling  (None, 4, 4, 16)         0         \n",
            " 2D)                                                             \n",
            "                                                                 \n",
            " flatten_2 (Flatten)         (None, 256)               0         \n",
            "                                                                 \n",
            " dense_4 (Dense)             (None, 120)               30840     \n",
            "                                                                 \n",
            " dense_5 (Dense)             (None, 25)                3025      \n",
            "                                                                 \n",
            "=================================================================\n",
            "Total params: 36,437\n",
            "Trainable params: 36,437\n",
            "Non-trainable params: 0\n",
            "_________________________________________________________________\n"
          ]
        }
      ]
    },
    {
      "cell_type": "code",
      "source": [
        "model.compile(optimizer=\"adam\",loss = keras.losses.SparseCategoricalCrossentropy(from_logits=True),metrics=['accuracy'])"
      ],
      "metadata": {
        "id": "rHGtoiTN7pp8"
      },
      "execution_count": 44,
      "outputs": []
    },
    {
      "cell_type": "code",
      "source": [
        "model.fit(x_train,y_train,batch_size=55,epochs=5,validation_data=(x_test,y_test))"
      ],
      "metadata": {
        "colab": {
          "base_uri": "https://localhost:8080/"
        },
        "id": "IrAK1D4971NA",
        "outputId": "f7c71fbf-843f-4cfc-9b72-bcd0230b94ef"
      },
      "execution_count": 45,
      "outputs": [
        {
          "output_type": "stream",
          "name": "stdout",
          "text": [
            "Epoch 1/5\n",
            "500/500 [==============================] - 16s 31ms/step - loss: 1.6557 - accuracy: 0.6529 - val_loss: 1.0021 - val_accuracy: 0.7196\n",
            "Epoch 2/5\n",
            "500/500 [==============================] - 17s 33ms/step - loss: 0.0788 - accuracy: 0.9787 - val_loss: 0.9043 - val_accuracy: 0.8002\n",
            "Epoch 3/5\n",
            "500/500 [==============================] - 15s 31ms/step - loss: 0.0272 - accuracy: 0.9929 - val_loss: 1.0680 - val_accuracy: 0.8056\n",
            "Epoch 4/5\n",
            "500/500 [==============================] - 15s 31ms/step - loss: 0.0478 - accuracy: 0.9852 - val_loss: 0.9611 - val_accuracy: 0.8284\n",
            "Epoch 5/5\n",
            "500/500 [==============================] - 15s 31ms/step - loss: 0.0018 - accuracy: 0.9999 - val_loss: 0.9126 - val_accuracy: 0.8443\n"
          ]
        },
        {
          "output_type": "execute_result",
          "data": {
            "text/plain": [
              "<keras.callbacks.History at 0x7fec82eab990>"
            ]
          },
          "metadata": {},
          "execution_count": 45
        }
      ]
    },
    {
      "cell_type": "code",
      "source": [],
      "metadata": {
        "id": "CJrRPEoL8Heq"
      },
      "execution_count": 45,
      "outputs": []
    }
  ]
}